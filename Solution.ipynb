{
 "cells": [
  {
   "cell_type": "code",
   "execution_count": 7,
   "metadata": {},
   "outputs": [],
   "source": [
    "import pandas as pd\n",
    "import numpy as np"
   ]
  },
  {
   "cell_type": "code",
   "execution_count": 3,
   "metadata": {},
   "outputs": [],
   "source": [
    "# df_train = pd.read_csv('Train_target.csv')\n",
    "# df_test = pd.read_csv('Test_target.csv')\n",
    "\n",
    "# df_train.fillna(\"-1\",inplace=True)\n",
    "\n",
    "# df_test.fillna(\"-1\",inplace=True)\n",
    "\n",
    "# df_train.head()\n",
    "\n",
    "# # Random Forest giving no solution\n",
    "# from sklearn.ensemble import RandomForestClassifier\n",
    "\n",
    "# rf = RandomForestClassifier(n_estimators=20)\n",
    "# rf.fit(df_train.drop(['id_accs','id_props','target'],axis=1),df_train.target)\n",
    "\n",
    "# y_pred = rf.predict(df_test.drop(['id_accs','id_props'],axis=1))\n",
    "\n",
    "# y_pred\n",
    "\n",
    "# import lightgbm as lgb\n",
    "\n",
    "# model = lgb.LGBMClassifier(n_estimators=300,subsample=0.8,reg_alpha=0.01,reg_lambda=0.01,n_jobs=4)\n",
    "\n",
    "# model.fit(df_train.drop(['id_accs','id_props','target'],axis=1),df_train.target)\n",
    "\n",
    "# y_pred = model.predict(df_test.drop(['id_accs','id_props'],axis=1))\n",
    "\n",
    "# df_test_target = pd.read_csv('Test_target.csv')\n",
    "\n",
    "# df_test_target['test_target'] = y_pred\n",
    "\n",
    "# df_test_target.to_csv('Solution_1.csv',index=False)\n",
    "\n",
    "# df_test_target = df_test_target[(df_test_target['test_target'] == df_test_target['target'])]\n",
    "\n",
    "# df_test_target.shape\n",
    "\n",
    "# df_sol = df_test_target[['id_accs','id_props']]"
   ]
  },
  {
   "cell_type": "code",
   "execution_count": 8,
   "metadata": {},
   "outputs": [],
   "source": [
    "df_sol = pd.read_csv('Test_target.csv')"
   ]
  },
  {
   "cell_type": "code",
   "execution_count": 9,
   "metadata": {},
   "outputs": [
    {
     "data": {
      "text/plain": [
       "(106865, 83)"
      ]
     },
     "execution_count": 9,
     "metadata": {},
     "output_type": "execute_result"
    }
   ],
   "source": [
    "df_sol.shape"
   ]
  },
  {
   "cell_type": "code",
   "execution_count": 10,
   "metadata": {},
   "outputs": [],
   "source": [
    "from sklearn.model_selection import StratifiedKFold,KFold"
   ]
  },
  {
   "cell_type": "code",
   "execution_count": 11,
   "metadata": {},
   "outputs": [],
   "source": [
    "kfold = StratifiedKFold(n_splits=10,random_state=19)"
   ]
  },
  {
   "cell_type": "code",
   "execution_count": 14,
   "metadata": {},
   "outputs": [],
   "source": [
    "i=0\n",
    "for train_idx,valid_idx in kfold.split(df_sol.drop('id_accs',axis=1),df_sol.id_accs):\n",
    "    train = df_sol.iloc[valid_idx]\n",
    "    train = train[['id_accs','id_props']]\n",
    "    train.rename(columns={'id_props': 'id_prop'}, inplace=True)\n",
    "    train.to_csv(f'output{i}.csv',index=False)\n",
    "    i = i+1"
   ]
  },
  {
   "cell_type": "code",
   "execution_count": 36,
   "metadata": {},
   "outputs": [],
   "source": [
    "# i=0\n",
    "# for train_idx,valid_idx in kfold.split(df_train.id_props,df_train.id_accs):\n",
    "#     train = df_train.iloc[valid_idx][['id_props','id_accs']]\n",
    "#     train.to_csv(f'output{i}.csv',index=False)\n",
    "#     i = i+1"
   ]
  }
 ],
 "metadata": {
  "kernelspec": {
   "display_name": "Python 3",
   "language": "python",
   "name": "python3"
  },
  "language_info": {
   "codemirror_mode": {
    "name": "ipython",
    "version": 3
   },
   "file_extension": ".py",
   "mimetype": "text/x-python",
   "name": "python",
   "nbconvert_exporter": "python",
   "pygments_lexer": "ipython3",
   "version": "3.6.5"
  }
 },
 "nbformat": 4,
 "nbformat_minor": 2
}
