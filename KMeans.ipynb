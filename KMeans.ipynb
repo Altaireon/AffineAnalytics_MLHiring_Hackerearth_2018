{
 "cells": [
  {
   "cell_type": "code",
   "execution_count": 2,
   "metadata": {},
   "outputs": [],
   "source": [
    "import pandas as pd\n",
    "import numpy as np"
   ]
  },
  {
   "cell_type": "code",
   "execution_count": 4,
   "metadata": {},
   "outputs": [],
   "source": [
    "df_prop = pd.read_csv('Properties_sold_processed.csv')\n",
    "df_prop_not = pd.read_csv('Properties_not_sold_processed.csv')\n",
    "df_test = pd.read_csv('Test.csv')\n",
    "df_train = pd.read_csv('Train.csv')"
   ]
  },
  {
   "cell_type": "code",
   "execution_count": 5,
   "metadata": {},
   "outputs": [],
   "source": [
    "df_prop.fillna(0,inplace=True)\n",
    "df_prop_not.fillna(0,inplace=True)\n",
    "df_train.fillna(0,inplace=True)\n",
    "df_test.fillna(0,inplace=True)"
   ]
  },
  {
   "cell_type": "code",
   "execution_count": 6,
   "metadata": {},
   "outputs": [
    {
     "name": "stderr",
     "output_type": "stream",
     "text": [
      "D:\\Anaconda3\\lib\\site-packages\\ipykernel_launcher.py:1: FutureWarning: Sorting because non-concatenation axis is not aligned. A future version\n",
      "of pandas will change to not sort by default.\n",
      "\n",
      "To accept the future behavior, pass 'sort=True'.\n",
      "\n",
      "To retain the current behavior and silence the warning, pass sort=False\n",
      "\n",
      "  \"\"\"Entry point for launching an IPython kernel.\n"
     ]
    }
   ],
   "source": [
    "df = pd.concat([df_prop,df_prop_not])"
   ]
  },
  {
   "cell_type": "code",
   "execution_count": 7,
   "metadata": {},
   "outputs": [],
   "source": [
    "from sklearn.cluster import KMeans"
   ]
  },
  {
   "cell_type": "code",
   "execution_count": 8,
   "metadata": {},
   "outputs": [],
   "source": [
    "model_kmeans_props = KMeans(70)"
   ]
  },
  {
   "cell_type": "code",
   "execution_count": 14,
   "metadata": {},
   "outputs": [
    {
     "data": {
      "text/plain": [
       "KMeans(algorithm='auto', copy_x=True, init='k-means++', max_iter=300,\n",
       "    n_clusters=70, n_init=10, n_jobs=1, precompute_distances='auto',\n",
       "    random_state=None, tol=0.0001, verbose=0)"
      ]
     },
     "execution_count": 14,
     "metadata": {},
     "output_type": "execute_result"
    }
   ],
   "source": [
    "model_kmeans_props.fit(df.drop('id_props',axis=1))"
   ]
  },
  {
   "cell_type": "code",
   "execution_count": 15,
   "metadata": {},
   "outputs": [],
   "source": [
    "y_pred_prop = model_kmeans_props.predict(df_prop_not.drop('id_props',axis=1))  "
   ]
  },
  {
   "cell_type": "code",
   "execution_count": 16,
   "metadata": {},
   "outputs": [],
   "source": [
    "original_prop = model_kmeans_props.predict(df_prop.drop('id_props',axis=1))"
   ]
  },
  {
   "cell_type": "code",
   "execution_count": null,
   "metadata": {},
   "outputs": [],
   "source": [
    "data_dict = {}\n",
    "for i,val in enumerate(df_prop['id_props']):\n",
    "    data_dict[val] = original_prop[i] \n",
    "for i,val in enumerate(df_train[\"id_props\"]):\n",
    "    df_train.at[i,'target'] = data_dict[df_train.id_props.values[i]]"
   ]
  },
  {
   "cell_type": "code",
   "execution_count": 19,
   "metadata": {},
   "outputs": [],
   "source": [
    "data_dict = {}\n",
    "for i,val in enumerate(df_prop_not['id_props']):\n",
    "    data_dict[val] = y_pred_prop[i] \n",
    "for i,val in enumerate(df_test[\"id_props\"]):\n",
    "    df_test.at[i,'target'] = data_dict[df_test.id_props.values[i]]"
   ]
  },
  {
   "cell_type": "code",
   "execution_count": 20,
   "metadata": {},
   "outputs": [],
   "source": [
    "df_train.to_csv('Train_target.csv',index=False)\n",
    "df_test.to_csv('Test_target.csv',index=False)"
   ]
  },
  {
   "cell_type": "code",
   "execution_count": 13,
   "metadata": {},
   "outputs": [],
   "source": [
    "# df_acc = pd.read_csv('Accounts_1.csv')\n",
    "# df_test = pd.read_csv('Dataset/Test_Data.csv')\n",
    "\n",
    "# df_test = pd.merge(df_test,df_acc,on=\"id_accs\")\n",
    "\n",
    "# ids = df_acc.id_accs.tolist()\n",
    "# for val in df_test['id_accs']:\n",
    "#     ids.remove(val)\n",
    "\n",
    "# df_not_test = df_acc.loc[df_acc['id_accs'].isin(ids)]\n",
    "\n",
    "# model_kmeans_ac = KMeans(70)\n",
    "\n",
    "# model_kmeans_ac.fit(df_not_test.drop('id_accs',axis=1))\n",
    "\n",
    "# y_pred_acc = model_kmeans_ac.predict(df_test.drop('id_accs',axis=1))\n",
    "\n",
    "# original_acc = model_kmeans_ac.fit_predict(df_not_test.drop('id_accs',axis=1))"
   ]
  }
 ],
 "metadata": {
  "kernelspec": {
   "display_name": "Python 3",
   "language": "python",
   "name": "python3"
  },
  "language_info": {
   "codemirror_mode": {
    "name": "ipython",
    "version": 3
   },
   "file_extension": ".py",
   "mimetype": "text/x-python",
   "name": "python",
   "nbconvert_exporter": "python",
   "pygments_lexer": "ipython3",
   "version": "3.6.5"
  }
 },
 "nbformat": 4,
 "nbformat_minor": 2
}
